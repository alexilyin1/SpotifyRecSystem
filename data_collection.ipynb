{
 "metadata": {
  "language_info": {
   "codemirror_mode": {
    "name": "ipython",
    "version": 3
   },
   "file_extension": ".py",
   "mimetype": "text/x-python",
   "name": "python",
   "nbconvert_exporter": "python",
   "pygments_lexer": "ipython3",
   "version": "3.8.5-final"
  },
  "orig_nbformat": 2,
  "kernelspec": {
   "name": "python38564bitenvvenvc000f8ac7873442d87ecd90076da37f5",
   "display_name": "Python 3.8.5 64-bit ('env': venv)",
   "language": "python"
  }
 },
 "nbformat": 4,
 "nbformat_minor": 2,
 "cells": [
  {
   "cell_type": "code",
   "execution_count": null,
   "metadata": {},
   "outputs": [],
   "source": [
    "import sys\n",
    "sys.path.insert(0, './CPPotify/source/py')\n",
    "from CPPotify import CPPotify\n",
    "\n",
    "from keys import (USER, PASS, ACCOUNT, CLIENT_ID, CLIENT_SECRET,\n",
    "                  REDIRECT_URI, STATE, SCOPE, SHOW_DIALOG,\n",
    "                  ID, SECRET)\n",
    "\n",
    "import snowflake.connector\n",
    "import pandas as pd\n",
    "import boto3\n",
    "from datetime import datetime\n",
    "from io import StringIO\n",
    "\n",
    "bucket = 'spotifyrecsystem'\n",
    "\n",
    "cpp = CPPotify(CLIENT_ID, CLIENT_SECRET)"
   ]
  },
  {
   "source": [
    "## Old Snowflake code - migrated to AWS"
   ],
   "cell_type": "markdown",
   "metadata": {}
  },
  {
   "cell_type": "code",
   "execution_count": null,
   "metadata": {},
   "outputs": [],
   "source": [
    "def checkpoint():\n",
    "    ctx = snowflake.connector.connect(\n",
    "        user = USER,\n",
    "        password = PASS,\n",
    "        account = ACCOUNT,print(e)\n",
    "        warehouse = 'COMPUTE_WH',\n",
    "        database = 'SPOTIFY_DB'\n",
    "    )\n",
    "    cs = ctx.cursor()\n",
    "\n",
    "    if len(playlist_id_list) != 0:client('connect')\n",
    "        if len(playlist_id_list) >= 16384:\n",
    "            for x in range(math.ceil(len(playlist_id_list)/16384)):\n",
    "                temp = playlist_id_list[x * 16384 : (x * 16384) + 16384]\n",
    "                playlist_id_tuple = [[str(x)] for x in temp]\n",
    "                try:\n",
    "                    query_string = \"INSERT INTO PUBLIC.PLAYLIST_IDS(ID) VALUES (%s)\"\n",
    "                    cs.executemany(query_string, playlist_id_tuple)\n",
    "                except Exception as e:\n",
    "                    print(e)\n",
    "        else:\n",
    "            playlist_id_tuple = [[str(x)] for x in playlist_id_list]\n",
    "            try:\n",
    "                query_string = \"INSERT INTO PUBLIC.PLAYLIST_IDS(ID) VALUES (%s)\"\n",
    "                cs.executemany(query_string, playlist_id_tuple)\n",
    "            except Exception as e:\n",
    "                print(e)\n",
    "\n",
    "    if len(album_id_list) != 0:\n",
    "        if len(album_id_list) >= 16384:\n",
    "            for x in range(math.ceil(len(album_id_list)/16384)):\n",
    "                temp = album_id_list[x * 16384 : (x * 16384) + 16384]\n",
    "                album_id_tuple = [[str(x)] for x in temp]\n",
    "                try:\n",
    "                    query_string = \"INSERT INTO PUBLIC.ALBUM_IDS(ID) VALUES (%s)\"\n",
    "                    cs.executemany(query_string, album_id_tuple)\n",
    "                except Exception as e:\n",
    "                    print(e)\n",
    "        else:\n",
    "            album_id_tuple = [[str(x)] for x in album_id_list]\n",
    "            try:\n",
    "                query_string = \"INSERT INTO PUBLIC.ALBUM_IDS(ID) VALUES (%s);\"\n",
    "                cs.executemany(query_string, album_id_tuple)\n",
    "            except Exception as e:\n",
    "                print(e)\n",
    "\n",
    "    if len(artist_id_list) != 0:\n",
    "        if len(artist_id_list) >= 16384:\n",
    "            for x in range(math.ceil(len(artist_id_list)/16384)):\n",
    "                temp = artist_id_list[x * 16384 : (x * 16384) + 16384]\n",
    "                artist_id_tuple = [[str(x)] for x in temp]\n",
    "                try:\n",
    "                    query_string = \"INSERT INTO PUBLIC.ARTIST_IDS(ID) VALUES (%s)\"\n",
    "                    cs.executemany(query_string, artist_id_tuple)\n",
    "                except Exception as e:\n",
    "                    print(e)\n",
    "        else:\n",
    "            artist_id_tuple = [[str(x)] for x in artist_id_list]\n",
    "            try:\n",
    "                query_string = \"INSERT INTO PUBLIC.ARTIST_IDS(ID) VALUES (%s);\"\n",
    "                cs.executemany(query_string, artist_id_tuple)\n",
    "            except Exception as e:\n",
    "                print(e)\n",
    "\n",
    "    if len(track_id_list) != 0:\n",
    "        if len(track_id_list) >= 16384:\n",
    "            for x in range(math.ceil(len(track_id_list)/16384)):\n",
    "                temp = track_id_list[x * 16384 : (x * 16384) + 16384]\n",
    "                track_id_tuple = [[str(x)] for x in temp]\n",
    "                try:\n",
    "                    query_string = \"INSERT INTO PUBLIC.TRACK_IDS(ID) VALUES (%s)\"\n",
    "                    cs.executemany(query_string, track_id_tuple)\n",
    "                except Exception as e:\n",
    "                    print(e)\n",
    "        else:\n",
    "            track_id_tuple = [[str(x)] for x in track_id_list]\n",
    "            try:\n",
    "                query_string = \"INSERT INTO PUBLIC.TRACK_IDS(ID) VALUES (%s);\"\n",
    "                cs.executemany(query_string, track_id_tuple)\n",
    "            except Exception as e:\n",
    "                print(e)\n",
    "\n",
    "    ctx.close()\n",
    "    cs.close()"
   ]
  },
  {
   "cell_type": "code",
   "execution_count": null,
   "metadata": {},
   "outputs": [],
   "source": [
    "def audio_features_only_checkpoint():\n",
    "    ctx = snowflake.connector.connect(\n",
    "        user = USER,\n",
    "        password = PASS,\n",
    "        account = ACCOUNT,\n",
    "        warehouse = 'COMPUTE_WH',\n",
    "        database = 'SPOTIFY_DB'\n",
    "    )\n",
    "    cs = ctx.cursor()\n",
    "\n",
    "    if len(audio_features_df) != 0:\n",
    "        start = (len(audio_features_df)//10000 - 1) * 10000\n",
    "        audio_features_tuple = list(audio_features_df.iloc[start : start + 10000].itertuples(index=False, name=None))\n",
    "        try:\n",
    "            query_string = \"INSERT INTO PUBLIC.AUDIO_FEATURES_ONLY(DANCEABILITY, ENERGY, KEY, LOUDNESS, MODE, SPEECHINESS, ACOUSTICNESS, INSTRUMENTALNESS, LIVENESS, VALENCE, TEMPO, TYPE, ID, URI, TRACK_HREF, ANALYSIS_URL, DURATION_MS, TIME_SIGNATURE) VALUES (%s, %s, %s, %s, %s, %s, %s, %s, %s, %s, %s, %s, %s, %s, %s, %s, %s);\"\n",
    "            cs.executemany(query_string, audio_features_tuple)\n",
    "        except Exception as e:\n",
    "            print(e)\n",
    "            \n",
    "    ctx.close()\n",
    "    cs.close()"
   ]
  },
  {
   "cell_type": "code",
   "execution_count": null,
   "metadata": {},
   "outputs": [],
   "source": [
    "def audio_features_full_checkpoint():\n",
    "    ctx = snowflake.connector.connect(\n",
    "        user = USER,\n",
    "        password = PASS,\n",
    "        account = ACCOUNT,\n",
    "        warehouse = 'COMPUTE_WH',\n",
    "        database = 'SPOTIFY_DB'\n",
    "    )\n",
    "    cs = ctx.cursor()\n",
    "\n",
    "    if len(audio_features_full_df) != 0:\n",
    "        start = (len(audio_features_full_df)//10000 - 1) * 10000\n",
    "        audio_features_tuple = audio_features_full_df.iloc[start : start + 10000].values.tolist()\n",
    "        try:\n",
    "            query_string = \"INSERT INTO PUBLIC.AUDIO_FEATURES_FULL(DANCEABILITY, ENERGY, KEY, LOUDNESS, MODE, SPEECHINESS, ACOUSTICNESS, INSTRUMENTALNESS, LIVENESS, VALENCE, TEMPO, TYPE, ID, URI, TRACK_HREF, ANALYSIS_URL, DURATION_MS, TIME_SIGNATURE, NAME, ARTIST_NAME, RELEASE_DATE) VALUES (%s, %s, %s, %s, %s, %s, %s, %s, %s, %s, %s, %s, %s, %s, %s, %s, %s, %s, %s, %s, %s);\"\n",
    "            cs.executemany(query_string, audio_features_tuple)\n",
    "        except Exception as e:\n",
    "            print(e)\n",
    "            \n",
    "    ctx.close()\n",
    "    cs.close()"
   ]
  },
  {
   "source": [
    "## AWS"
   ],
   "cell_type": "markdown",
   "metadata": {}
  },
  {
   "source": [
    "### Functions to save scraped Spotify data to S3"
   ],
   "cell_type": "markdown",
   "metadata": {}
  },
  {
   "cell_type": "code",
   "execution_count": null,
   "metadata": {},
   "outputs": [],
   "source": [
    "def checkpoint(*args):\n",
    "    client = boto3.client(\n",
    "        's3',\n",
    "        aws_access_key_id = ID, \n",
    "        aws_secret_access_key = SECRET,\n",
    "        region_name = 'us-west-1'\n",
    "    )\n",
    "    \n",
    "    resource = boto3.resource(\n",
    "        's3',\n",
    "        aws_access_key_id = ID, \n",
    "        aws_secret_access_key = SECRET,\n",
    "        region_name = 'us-west-1'\n",
    "    )\n",
    "\n",
    "    for arg in args:\n",
    "        try:\n",
    "            if len(arg) > 0:\n",
    "                csv_buffer = StringIO()\n",
    "                spotify_obj = arg[0][0]\n",
    "                \n",
    "                if spotify_obj == 'albums':\n",
    "                    df = pd.DataFrame([x[1:] for x in arg], columns = ['ind', 'id', 'artist_id']).to_csv(csv_buffer, index=False)\n",
    "\n",
    "                elif spotify_obj == 'tracks':\n",
    "                    df = pd.DataFrame([x[1:] for x in arg], columns = ['ind', 'id', 'artist_id', 'album_id', 'release_date', 'name']).to_csv(csv_buffer, index=False)\n",
    "\n",
    "                elif spotify_obj == 'artists':\n",
    "                    df = pd.DataFrame([x[1:] for x in arg], columns = ['id']).to_csv(csv_buffer, index=False)\n",
    "\n",
    "                elif spotify_obj == 'playlists':\n",
    "                    df = pd.DataFrame([x[1:] for x in arg], columns = ['id']).to_csv(csv_buffer, index=False)\n",
    "                \n",
    "                elif spotify_obj == 'audio_features':\n",
    "                    df = pd.DataFrame([x[1:] for x in arg], columns = ['danceability', 'energy', 'key', 'loudness', 'mode', 'speechiness', 'acousticness', 'instrumentalness', 'liveness', 'valence', 'tempo', 'type', 'id', 'uri', 'track_href', 'analysis_url', 'duration_ms', 'time_signature']).to_csv(csv_buffer, index=False)\n",
    "                \n",
    "                old_obj = [obj['Key'] for obj in client.list_objects(Bucket='spotifyrecsystem')['Contents'] if obj['Key'] == spotify_obj + '/' + spotify_obj + '_data_cache.csv']\n",
    "                if len(old_obj) > 0:\n",
    "                    resource.Object('spotifyrecsystem', old_obj[0]).delete()\n",
    "\n",
    "                resource.Object(bucket, spotify_obj + '/' + spotify_obj + '_data_cache.csv').put(Body=csv_buffer.getvalue())\n",
    "        except Exception as e:\n",
    "            raise Exception(e)"
   ]
  },
  {
   "cell_type": "code",
   "execution_count": null,
   "metadata": {},
   "outputs": [],
   "source": [
    "def reload_lists():\n",
    "    client = boto3.client(\n",
    "        's3',\n",
    "        aws_access_key_id = ID, \n",
    "        aws_secret_access_key = SECRET,\n",
    "        region_name = 'us-west-1'\n",
    "    )\n",
    "\n",
    "    resource = boto3.resource(\n",
    "        's3',\n",
    "        aws_access_key_id = ID, \n",
    "        aws_secret_access_key = SECRET,\n",
    "        region_name = 'us-west-1'\n",
    "    )\n",
    "    \n",
    "    for obj in ['albums', 'artists', 'tracks', 'playlists']:\n",
    "        obj_key = [objects['Key'] for objects in client.list_objects(Bucket='spotifyrecsystem')['Contents'] if objects['Key'] == obj + '/' + obj + '_data_cache.csv']\n",
    "        resource.Bucket(bucket).download_file(obj_key[0], 'reload/'+obj+'_data_cache.csv')"
   ]
  },
  {
   "cell_type": "code",
   "execution_count": null,
   "metadata": {},
   "outputs": [],
   "source": [
    "playlist_id_list = []\n",
    "album_id_list = []\n",
    "track_id_list = []\n",
    "artist_id_list = []"
   ]
  },
  {
   "cell_type": "code",
   "execution_count": null,
   "metadata": {},
   "outputs": [],
   "source": [
    "for item in cpp.browse('categories')['categories']['items']:\n",
    "    playlists = cpp.browse('categories', item['id'], 'playlists')\n",
    "    try:\n",
    "        for playlist in playlists['playlists']['items']:\n",
    "            if playlist['id'] not in [x[1] for x in playlist_id_list]:\n",
    "                playlist_id_list.append(('playlists', playlist['id']))\n",
    "    except Exception as e:\n",
    "        print(e)"
   ]
  },
  {
   "cell_type": "code",
   "execution_count": null,
   "metadata": {},
   "outputs": [],
   "source": [
    "checkpoint(playlist_id_list)"
   ]
  },
  {
   "cell_type": "code",
   "execution_count": null,
   "metadata": {},
   "outputs": [],
   "source": [
    "ind = 1\n",
    "for album in cpp.browse('new-releases')['albums']['items']:\n",
    "    for artist in album['artists']:\n",
    "        if artist not in [x[1] for x in artist_id_list]:\n",
    "            artist_id_list.append(('artists', artist['id']))\n",
    "    if len(album['artists']) > 1:\n",
    "        for art in range(len(album['artists'])):\n",
    "            album_id_list.append(('albums', ind, album['id'], album['artists'][art]['id']))\n",
    "            ind += 1\n",
    "    else:\n",
    "        if album['id'] not in [x[2] for x in album_id_list]: \n",
    "            album_id_list.append(('albums', ind, album['id'], album['artists'][0]['id']))\n",
    "            ind += 1"
   ]
  },
  {
   "cell_type": "code",
   "execution_count": null,
   "metadata": {},
   "outputs": [],
   "source": [
    "checkpoint(playlist_id_list, artist_id_list, album_id_list)"
   ]
  },
  {
   "cell_type": "code",
   "execution_count": null,
   "metadata": {
    "tags": [
     "outputPrepend"
    ]
   },
   "outputs": [],
   "source": [
    "for y in range(2013, 2021):\n",
    "    for m in range(1, 13):\n",
    "        for d in range(1, 32):\n",
    "            try:\n",
    "                featured = cpp.browse('featured-playlists', timestamp=datetime(y, m, d, 8))['playlists']['items']\n",
    "                for playlist in featured:\n",
    "                    if playlist['id'] not in [x[1] for x in playlist_id_list]: \n",
    "                        playlist_id_list.append(('playlists', playlist['id']))\n",
    "            except Exception as e:\n",
    "                print(e)\n",
    "                pass"
   ]
  },
  {
   "cell_type": "code",
   "execution_count": null,
   "metadata": {},
   "outputs": [],
   "source": [
    "checkpoint(playlist_id_list, artist_id_list, album_id_list)"
   ]
  },
  {
   "cell_type": "code",
   "execution_count": null,
   "metadata": {
    "tags": []
   },
   "outputs": [],
   "source": [
    "track_ind = 0\n",
    "ind = album_id_list[-1][1] + 1\n",
    "for playlist_id in playlist_id_list:\n",
    "    try:\n",
    "        res = cpp.get_playlists(False, '', playlist_id[1], 'tracks', limit=100)['items']\n",
    "        for track in res:\n",
    "            if track['track']['album']['id'] not in [x[2] for x in album_id_list]: \n",
    "                if len(track['track']['artists']) > 1:\n",
    "                    for art in range(len(track['track']['artists'])):\n",
    "                        album_id_list.append(('albums', ind, track['track']['album']['id'], track['track']['artists'][art]['id']))\n",
    "                        ind += 1\n",
    "                else:\n",
    "                    album_id_list.append(('albums', ind, track['track']['album']['id'], track['track']['artists'][0]['id']))\n",
    "                    ind += 1\n",
    "            for artist in track['track']['artists']:\n",
    "                if artist['id'] not in [x[1] for x in artist_id_list]: \n",
    "                    artist_id_list.append(('artists', artist['id']))\n",
    "            if track['track']['id'] not in [x[2] for x in track_id_list]:\n",
    "                artist_albums = []\n",
    "                if len(track['track']['artists']) > 1:\n",
    "                     for art in range(len(track['track']['artists'])):\n",
    "                        track_id_list.append(('tracks', track_ind, track['track']['id'], track['track']['artists'][art]['id'], track['track']['album']['id'], track['track']['album']['release_date'], track['track']['name']))\n",
    "                        track_ind += 1\n",
    "                else:\n",
    "                    track_id_list.append(('tracks', track_ind, track['track']['id'], track['track']['artists'][0]['id'], track['track']['album']['id'], track['track']['album']['release_date'], track['track']['name']))\n",
    "                    track_ind += 1\n",
    "    except Exception as e:\n",
    "        print('Exception occured: ' + str(e))\n",
    "        pass"
   ]
  },
  {
   "cell_type": "code",
   "execution_count": null,
   "metadata": {},
   "outputs": [],
   "source": [
    "checkpoint(playlist_id_list, artist_id_list, album_id_list, track_id_list)"
   ]
  },
  {
   "cell_type": "code",
   "execution_count": null,
   "metadata": {
    "tags": []
   },
   "outputs": [],
   "source": [
    "for id in artist_id_list:\n",
    "    try:\n",
    "        res = cpp.get_artists(id[1], 'related-artists')['artists']\n",
    "        for rel_artist in res:\n",
    "            if rel_artist['id'] not in [x[1] for x in artist_id_list]:\n",
    "                 artist_id_list.append(('artists', rel_artist['id']))\n",
    "        if len(artist_id_list) % 10000 == 0:\n",
    "            print(len(artist_id_list))\n",
    "            checkpoint(playlist_id_list, artist_id_list, album_id_list, track_id_list)\n",
    "    except Exception as e:\n",
    "        print('Exception occured: ' + str(e))\n",
    "        pass"
   ]
  },
  {
   "cell_type": "code",
   "execution_count": null,
   "metadata": {},
   "outputs": [],
   "source": [
    "checkpoint(playlist_id_list, artist_id_list, album_id_list, track_id_list)"
   ]
  },
  {
   "cell_type": "code",
   "execution_count": null,
   "metadata": {},
   "outputs": [],
   "source": [
    "ind = album_id_list[-1][1] + 1\n",
    "for id in artist_id_list:\n",
    "    try:\n",
    "        res = cpp.get_artists(id[1], 'albums', include_groups='album,single,appears_on,compilation')\n",
    "        for album in res['items']:\n",
    "            if album['id'] not in [x[2] for x in album_id_list]:\n",
    "                if len(album['artists']) > 1:\n",
    "                    for art in range(len(album['artists'])):\n",
    "                        album_id_list.append(('albums', ind, album['id'], album['artists'][art]['id']))\n",
    "                        ind += 1\n",
    "                else:\n",
    "                    album_id_list.append(('albums', ind, album['id'], id[1]))\n",
    "                    ind += 1\n",
    "        if len(album_id_list) % 10000 == 0:\n",
    "            print(len(album_id_list))\n",
    "    except Exception as e:\n",
    "        print('Exception occured: ' + str(e))\n",
    "        pass"
   ]
  },
  {
   "cell_type": "code",
   "execution_count": null,
   "metadata": {},
   "outputs": [],
   "source": [
    "checkpoint(playlist_id_list, artist_id_list, album_id_list, track_id_list)"
   ]
  },
  {
   "cell_type": "code",
   "execution_count": null,
   "metadata": {},
   "outputs": [],
   "source": [
    "ind = track_id_list[-1][1] + 1\n",
    "for id in list(set([x[2] for x in album_id_list if x not in [x[4] for x in track_id_list]])):\n",
    "    try:\n",
    "        res = cpp.get_albums(id)\n",
    "        for tracks in res['tracks']['items']:\n",
    "            if tracks['id'] not in [x[2] for x in track_id_list]:\n",
    "                if len(tracks['artists']) > 1:\n",
    "                    for art in range(len(tracks['artists'])):\n",
    "                        track_id_list.append(('tracks', ind, tracks['id'], tracks['artists'][art]['id'], id, res['release_date'], tracks['name']))\n",
    "                        ind += 1\n",
    "                else:\n",
    "                    track_id_list.append(('tracks', ind, tracks['id'], tracks['artists'][0]['id'], id, res['release_date'], tracks['name']))\n",
    "                    ind += 1\n",
    "        if len(track_id_list) % 1000 == 0:\n",
    "            print(len(track_id_list))\n",
    "            checkpoint(playlist_id_list, artist_id_list, album_id_list, track_id_list)\n",
    "    except Exception as e:\n",
    "        print('Exception occured: ' + str(e))\n",
    "        pass"
   ]
  },
  {
   "cell_type": "code",
   "execution_count": null,
   "metadata": {},
   "outputs": [],
   "source": [
    "checkpoint(playlist_id_list, artist_id_list, album_id_list, track_id_list)"
   ]
  },
  {
   "cell_type": "code",
   "execution_count": null,
   "metadata": {},
   "outputs": [],
   "source": [
    "features = []"
   ]
  },
  {
   "source": [
    "for interval in range(math.ceil(len(set([x[2] for x in track_id_list])) / 50)):\n",
    "    try:\n",
    "        for dic in [x for x in cpp.get_tracks([x[2] for x in track_id_list][interval * 50 : (interval * 50) + 50], 'audio-features')['audio_features'] if x is not None]:\n",
    "            features.append(tuple(['audio_features'] + list(dic.values())))\n",
    "            if len(features) % 10000 == 0:\n",
    "                print(len(features))\n",
    "    except Exception as e:\n",
    "        print('Exception occured: ' + str(e))\n",
    "        pass"
   ],
   "cell_type": "code",
   "metadata": {
    "tags": []
   },
   "execution_count": null,
   "outputs": []
  },
  {
   "cell_type": "code",
   "execution_count": null,
   "metadata": {},
   "outputs": [],
   "source": [
    "checkpoint(features)"
   ]
  },
  {
   "cell_type": "code",
   "execution_count": null,
   "metadata": {},
   "outputs": [],
   "source": [
    "audio_features_full_df = audio_features_df\n",
    "\n",
    "for row in range(len(audio_features_df)):\n",
    "    try:\n",
    "        track = cpp.get_tracks(audio_features_df.iloc[row]['id'])\n",
    "\n",
    "        audio_features_full_df.at[row, 'name'] = track['name']\n",
    "        audio_features_full_df.at[row, 'artist_name'] = track['artists'][0]['name']\n",
    "        audio_features_full_df.at[row, 'release_date'] = track['album']['release_date']\n",
    "        \n",
    "        if len(audio_features_full_df) % 10000 == 0:\n",
    "            audio_features_full_checkpoint()\n",
    "            print(len(audio_features_full_df))\n",
    "    except Exception as e:\n",
    "        print('Exception occured: ' + str(e))\n",
    "        pass"
   ]
  }
 ]
}